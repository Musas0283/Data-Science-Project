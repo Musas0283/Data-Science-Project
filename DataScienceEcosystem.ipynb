{
 "cells": [
  {
   "cell_type": "markdown",
   "id": "f4e03a31-a17a-4562-a0d2-059d7b112e73",
   "metadata": {},
   "source": [
    "# Data Science Tools and Ecosystem"
   ]
  },
  {
   "cell_type": "markdown",
   "id": "530b6599-823f-4158-b189-eb529bb65da5",
   "metadata": {},
   "source": [
    "In this notebook, Data Science Tools and Ecosystem are summarized"
   ]
  },
  {
   "cell_type": "markdown",
   "id": "ed73a689-81a5-43e9-9c64-da698f80f351",
   "metadata": {},
   "source": [
    "Some of the popular languages that Data Scientists use are:\n",
    "1. Python\n",
    "2. R\n",
    "3. SQL\n",
    "4. Julia"
   ]
  },
  {
   "cell_type": "markdown",
   "id": "bcfb334e-4fa9-4a5e-9018-047d88f74299",
   "metadata": {},
   "source": [
    "Some of the commonly used libraries used by Data Scientists include:\n",
    "1. NumPy\n",
    "2. Pandas\n",
    "3. Matplotlib\n",
    "4. Scikit-learn\n",
    "5. TensorFlow"
   ]
  },
  {
   "cell_type": "markdown",
   "id": "345016f4-1a12-4b42-b098-7fd843849d40",
   "metadata": {},
   "source": [
    "**Objectives:**\n",
    "- List popular languages for Data Science\n",
    "- Identify commonly used Data Science libraries\n",
    "- Identify commonly used in Data Science\n",
    "- Demonstrate basic arithmetic expression evaluation in Python"
   ]
  },
  {
   "cell_type": "markdown",
   "id": "e1bf6c02-e267-4af1-88a4-1fdb3bc065e5",
   "metadata": {},
   "source": [
    "| Data Science Tools         |\n",
    "|---------------------------|\n",
    "| Jupyter Notebook          |\n",
    "| RStudio                   |\n",
    "| Visual Studio Code (VS Code) |\n"
   ]
  },
  {
   "cell_type": "code",
   "execution_count": null,
   "id": "7ee11254-7f8d-4ac0-8395-2023db6dae53",
   "metadata": {},
   "outputs": [],
   "source": []
  },
  {
   "cell_type": "markdown",
   "id": "6481ebd4-b781-43d7-83d9-25edc2c2703b",
   "metadata": {},
   "source": [
    "Introduction to arithmetic expression\n",
    "## Below are a few examples of evaluating arithmetic expressions in Python\n",
    "- 3 + 5 results in 8\n",
    "- 10 - 2 results in 8\n",
    "- 4 * 7 results in 28\n",
    "- 16 / 4 results in 4.0\n",
    "- 2 ** 3 results in 8 (exponentiation)"
   ]
  },
  {
   "cell_type": "code",
   "execution_count": 3,
   "id": "f88d81e8-1ece-4a49-b423-553bd432c3d8",
   "metadata": {},
   "outputs": [
    {
     "data": {
      "text/plain": [
       "17"
      ]
     },
     "execution_count": 3,
     "metadata": {},
     "output_type": "execute_result"
    }
   ],
   "source": [
    "(3*4)+5\n",
    "#This a simple arithmetic expression to mutiply then add integers."
   ]
  },
  {
   "cell_type": "code",
   "execution_count": 4,
   "id": "df201c1b-4244-4aa7-bd5b-a8ff3ca8d2d8",
   "metadata": {},
   "outputs": [
    {
     "data": {
      "text/plain": [
       "3.3333333333333335"
      ]
     },
     "execution_count": 4,
     "metadata": {},
     "output_type": "execute_result"
    }
   ],
   "source": [
    "200/60\n",
    "# This will convert 200 minutes to hours by diving by 60"
   ]
  },
  {
   "cell_type": "markdown",
   "id": "99d08747-2e21-40bf-9e05-8a23285cfe97",
   "metadata": {},
   "source": [
    "### Author\n",
    "Sarah Musa"
   ]
  },
  {
   "cell_type": "code",
   "execution_count": null,
   "id": "e8ec552f-9066-4242-95a4-cc9eed00f961",
   "metadata": {},
   "outputs": [],
   "source": []
  }
 ],
 "metadata": {
  "kernelspec": {
   "display_name": "Python 3 (ipykernel)",
   "language": "python",
   "name": "python3"
  },
  "language_info": {
   "codemirror_mode": {
    "name": "ipython",
    "version": 3
   },
   "file_extension": ".py",
   "mimetype": "text/x-python",
   "name": "python",
   "nbconvert_exporter": "python",
   "pygments_lexer": "ipython3",
   "version": "3.12.7"
  }
 },
 "nbformat": 4,
 "nbformat_minor": 5
}
